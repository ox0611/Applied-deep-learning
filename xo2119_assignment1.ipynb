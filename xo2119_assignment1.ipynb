{
 "cells": [
  {
   "cell_type": "markdown",
   "metadata": {
    "colab_type": "text",
    "id": "-PZihj-d_tEt"
   },
   "source": [
    "**Assignment 1**\n",
    "\n",
    "## About\n",
    "In this assignment, you will gain experience implementing a linear model, a neural network, and a deep neural network using TensorFlow 2.0. \n",
    "\n",
    "* You will use two different development styles. I thought it’d be helpful for you to see both of these early (if you’re familiar with them, you can branch out to any major framework that exist today). \n",
    "\n",
    "* Along the way, you'll add code to visualize the weights of a linear model, and provide your own implementation of softmax (so you learn to extend the built-in functionality right off the bat).\n",
    "\n",
    "This assignment has several parts, plan ahead and get started early (and come to office hours if you’re stuck, the TAs and I are happy to help). Most concepts will be covered in lecture two, just posting it early.\n",
    "\n",
    "## Instructions\n",
    "\n",
    "Complete the code in this notebook by searching for the text **\"TODO\"**.\n",
    "\n",
    "## Submission instructions\n",
    "\n",
    "Please submit this assignment on CourseWorks by uploading a Jupyter notebook that includes saved output. If you are working in Colab, you can prepare your notebook for submission by ensuring that runs end-to-end, then saving and downloading it:\n",
    "\n",
    "1. ```Runtime -> Restart and run all```\n",
    "1. ```File -> Save```\n",
    "1. ```File -> Download.ipynb```\n",
    "\n",
    "## Resources\n",
    "\n",
    "You can find all the latest tutorials for TensorFlow 2.0 [here](https://www.tensorflow.org/tutorials). Code examples that will help you with each part of the assignment are linked below.\n",
    "\n",
    "\n",
    "\n",
    "---\n",
    "\n"
   ]
  },
  {
   "cell_type": "markdown",
   "metadata": {
    "colab_type": "text",
    "id": "KZ5ssDBBl9n6"
   },
   "source": [
    "## Setup"
   ]
  },
  {
   "cell_type": "markdown",
   "metadata": {
    "colab_type": "text",
    "id": "MDj1_w6v-mYW"
   },
   "source": [
    "### Install TensorFlow 2.0\n",
    "\n",
    "If you are running this notebook in Colab, the magic command below will install the most recent version. If you prefer working in Jupyter locally, you will need to install TensorFlow 2.0 on your system, using ```!pip install tensorflow==2.1.0```."
   ]
  },
  {
   "cell_type": "code",
   "execution_count": 1,
   "metadata": {
    "colab": {},
    "colab_type": "code",
    "id": "m1wARst_UkEi"
   },
   "outputs": [
    {
     "name": "stdout",
     "output_type": "stream",
     "text": [
      "Requirement already satisfied: tensorflow==2.1.0 in /Users/kelanox/opt/anaconda3/lib/python3.7/site-packages (2.1.0)\n",
      "Requirement already satisfied: tensorflow-estimator<2.2.0,>=2.1.0rc0 in /Users/kelanox/opt/anaconda3/lib/python3.7/site-packages (from tensorflow==2.1.0) (2.1.0)\n",
      "Requirement already satisfied: google-pasta>=0.1.6 in /Users/kelanox/opt/anaconda3/lib/python3.7/site-packages (from tensorflow==2.1.0) (0.1.8)\n",
      "Requirement already satisfied: wheel>=0.26; python_version >= \"3\" in /Users/kelanox/opt/anaconda3/lib/python3.7/site-packages (from tensorflow==2.1.0) (0.33.6)\n",
      "Requirement already satisfied: astor>=0.6.0 in /Users/kelanox/opt/anaconda3/lib/python3.7/site-packages (from tensorflow==2.1.0) (0.8.1)\n",
      "Requirement already satisfied: keras-applications>=1.0.8 in /Users/kelanox/opt/anaconda3/lib/python3.7/site-packages (from tensorflow==2.1.0) (1.0.8)\n",
      "Requirement already satisfied: absl-py>=0.7.0 in /Users/kelanox/opt/anaconda3/lib/python3.7/site-packages (from tensorflow==2.1.0) (0.9.0)\n",
      "Requirement already satisfied: gast==0.2.2 in /Users/kelanox/opt/anaconda3/lib/python3.7/site-packages (from tensorflow==2.1.0) (0.2.2)\n",
      "Requirement already satisfied: numpy<2.0,>=1.16.0 in /Users/kelanox/opt/anaconda3/lib/python3.7/site-packages (from tensorflow==2.1.0) (1.17.2)\n",
      "Requirement already satisfied: opt-einsum>=2.3.2 in /Users/kelanox/opt/anaconda3/lib/python3.7/site-packages (from tensorflow==2.1.0) (3.1.0)\n",
      "Requirement already satisfied: wrapt>=1.11.1 in /Users/kelanox/opt/anaconda3/lib/python3.7/site-packages (from tensorflow==2.1.0) (1.11.2)\n",
      "Requirement already satisfied: keras-preprocessing>=1.1.0 in /Users/kelanox/opt/anaconda3/lib/python3.7/site-packages (from tensorflow==2.1.0) (1.1.0)\n",
      "Requirement already satisfied: tensorboard<2.2.0,>=2.1.0 in /Users/kelanox/opt/anaconda3/lib/python3.7/site-packages (from tensorflow==2.1.0) (2.1.0)\n",
      "Requirement already satisfied: termcolor>=1.1.0 in /Users/kelanox/opt/anaconda3/lib/python3.7/site-packages (from tensorflow==2.1.0) (1.1.0)\n",
      "Requirement already satisfied: grpcio>=1.8.6 in /Users/kelanox/opt/anaconda3/lib/python3.7/site-packages (from tensorflow==2.1.0) (1.27.1)\n",
      "Requirement already satisfied: scipy==1.4.1; python_version >= \"3\" in /Users/kelanox/opt/anaconda3/lib/python3.7/site-packages (from tensorflow==2.1.0) (1.4.1)\n",
      "Requirement already satisfied: six>=1.12.0 in /Users/kelanox/opt/anaconda3/lib/python3.7/site-packages (from tensorflow==2.1.0) (1.12.0)\n",
      "Requirement already satisfied: protobuf>=3.8.0 in /Users/kelanox/opt/anaconda3/lib/python3.7/site-packages (from tensorflow==2.1.0) (3.11.3)\n",
      "Requirement already satisfied: h5py in /Users/kelanox/opt/anaconda3/lib/python3.7/site-packages (from keras-applications>=1.0.8->tensorflow==2.1.0) (2.9.0)\n",
      "Requirement already satisfied: google-auth-oauthlib<0.5,>=0.4.1 in /Users/kelanox/opt/anaconda3/lib/python3.7/site-packages (from tensorboard<2.2.0,>=2.1.0->tensorflow==2.1.0) (0.4.1)\n",
      "Requirement already satisfied: setuptools>=41.0.0 in /Users/kelanox/opt/anaconda3/lib/python3.7/site-packages (from tensorboard<2.2.0,>=2.1.0->tensorflow==2.1.0) (41.4.0)\n",
      "Requirement already satisfied: werkzeug>=0.11.15 in /Users/kelanox/opt/anaconda3/lib/python3.7/site-packages (from tensorboard<2.2.0,>=2.1.0->tensorflow==2.1.0) (0.16.0)\n",
      "Requirement already satisfied: markdown>=2.6.8 in /Users/kelanox/opt/anaconda3/lib/python3.7/site-packages (from tensorboard<2.2.0,>=2.1.0->tensorflow==2.1.0) (3.2)\n",
      "Requirement already satisfied: requests<3,>=2.21.0 in /Users/kelanox/opt/anaconda3/lib/python3.7/site-packages (from tensorboard<2.2.0,>=2.1.0->tensorflow==2.1.0) (2.22.0)\n",
      "Requirement already satisfied: google-auth<2,>=1.6.3 in /Users/kelanox/opt/anaconda3/lib/python3.7/site-packages (from tensorboard<2.2.0,>=2.1.0->tensorflow==2.1.0) (1.11.0)\n",
      "Requirement already satisfied: requests-oauthlib>=0.7.0 in /Users/kelanox/opt/anaconda3/lib/python3.7/site-packages (from google-auth-oauthlib<0.5,>=0.4.1->tensorboard<2.2.0,>=2.1.0->tensorflow==2.1.0) (1.3.0)\n",
      "Requirement already satisfied: urllib3!=1.25.0,!=1.25.1,<1.26,>=1.21.1 in /Users/kelanox/opt/anaconda3/lib/python3.7/site-packages (from requests<3,>=2.21.0->tensorboard<2.2.0,>=2.1.0->tensorflow==2.1.0) (1.24.2)\n",
      "Requirement already satisfied: idna<2.9,>=2.5 in /Users/kelanox/opt/anaconda3/lib/python3.7/site-packages (from requests<3,>=2.21.0->tensorboard<2.2.0,>=2.1.0->tensorflow==2.1.0) (2.8)\n",
      "Requirement already satisfied: certifi>=2017.4.17 in /Users/kelanox/opt/anaconda3/lib/python3.7/site-packages (from requests<3,>=2.21.0->tensorboard<2.2.0,>=2.1.0->tensorflow==2.1.0) (2019.9.11)\n",
      "Requirement already satisfied: chardet<3.1.0,>=3.0.2 in /Users/kelanox/opt/anaconda3/lib/python3.7/site-packages (from requests<3,>=2.21.0->tensorboard<2.2.0,>=2.1.0->tensorflow==2.1.0) (3.0.4)\n",
      "Requirement already satisfied: cachetools<5.0,>=2.0.0 in /Users/kelanox/opt/anaconda3/lib/python3.7/site-packages (from google-auth<2,>=1.6.3->tensorboard<2.2.0,>=2.1.0->tensorflow==2.1.0) (4.0.0)\n",
      "Requirement already satisfied: pyasn1-modules>=0.2.1 in /Users/kelanox/opt/anaconda3/lib/python3.7/site-packages (from google-auth<2,>=1.6.3->tensorboard<2.2.0,>=2.1.0->tensorflow==2.1.0) (0.2.8)\n",
      "Requirement already satisfied: rsa<4.1,>=3.1.4 in /Users/kelanox/opt/anaconda3/lib/python3.7/site-packages (from google-auth<2,>=1.6.3->tensorboard<2.2.0,>=2.1.0->tensorflow==2.1.0) (4.0)\n",
      "Requirement already satisfied: oauthlib>=3.0.0 in /Users/kelanox/opt/anaconda3/lib/python3.7/site-packages (from requests-oauthlib>=0.7.0->google-auth-oauthlib<0.5,>=0.4.1->tensorboard<2.2.0,>=2.1.0->tensorflow==2.1.0) (3.1.0)\n",
      "Requirement already satisfied: pyasn1<0.5.0,>=0.4.6 in /Users/kelanox/opt/anaconda3/lib/python3.7/site-packages (from pyasn1-modules>=0.2.1->google-auth<2,>=1.6.3->tensorboard<2.2.0,>=2.1.0->tensorflow==2.1.0) (0.4.8)\n"
     ]
    }
   ],
   "source": [
    "!pip install tensorflow==2.1.0"
   ]
  },
  {
   "cell_type": "markdown",
   "metadata": {
    "colab_type": "text",
    "id": "QYSALG-y-_7b"
   },
   "source": [
    "### Check which TF version is installed\n",
    "TensorFlow 2.0 is currently under development. It's good practice to check which version you have installed. All the code you'll write in this course will be for version 2.0 (currently in beta)."
   ]
  },
  {
   "cell_type": "code",
   "execution_count": 2,
   "metadata": {
    "colab": {},
    "colab_type": "code",
    "id": "21RQ0x71Ut_t"
   },
   "outputs": [
    {
     "name": "stdout",
     "output_type": "stream",
     "text": [
      "2.1.0\n"
     ]
    }
   ],
   "source": [
    "import tensorflow as tf\n",
    "print(tf.__version__)"
   ]
  },
  {
   "cell_type": "code",
   "execution_count": 3,
   "metadata": {
    "colab": {},
    "colab_type": "code",
    "id": "JQPA61YHUvht"
   },
   "outputs": [],
   "source": [
    "from tensorflow.keras.layers import Dense, Flatten \n",
    "from tensorflow.keras import Model\n",
    "import matplotlib.pyplot as plt"
   ]
  },
  {
   "cell_type": "markdown",
   "metadata": {
    "colab_type": "text",
    "id": "9vfWS0eYvzae"
   },
   "source": [
    "## Part 1: First steps with Sequential models\n",
    "\n",
    "You will work with the Sequential API in this section. This is the easiest way to develop models with TF 2.0, and is the most common in practice. \n",
    "\n",
    "Here are a few code examples that will help you with this part of the assignment:\n",
    "\n",
    "* [Get started for beginners](https://www.tensorflow.org/tutorials/quickstart/beginner)\n",
    "* [Classify images](https://www.tensorflow.org/tutorials/keras/basic_classification)\n",
    "* [Explore overfitting and underfitting](https://www.tensorflow.org/tutorials/keras/overfit_and_underfit)"
   ]
  },
  {
   "cell_type": "markdown",
   "metadata": {
    "colab_type": "text",
    "id": "6X5681LTm0jC"
   },
   "source": [
    "### Download and prepare a dataset"
   ]
  },
  {
   "cell_type": "code",
   "execution_count": 4,
   "metadata": {
    "colab": {},
    "colab_type": "code",
    "id": "KHL51OKlmwyw"
   },
   "outputs": [],
   "source": [
    "mnist = tf.keras.datasets.mnist\n",
    "\n",
    "(x_train, y_train), (x_test, y_test) = mnist.load_data()\n",
    "x_train, x_test = x_train / 255.0, x_test / 255.0"
   ]
  },
  {
   "cell_type": "markdown",
   "metadata": {
    "colab_type": "text",
    "id": "daw-THC6m4u6"
   },
   "source": [
    "### Define, train, and evaluate a linear model"
   ]
  },
  {
   "cell_type": "code",
   "execution_count": 5,
   "metadata": {
    "colab": {},
    "colab_type": "code",
    "id": "MHWcSJEQm8jB"
   },
   "outputs": [
    {
     "name": "stdout",
     "output_type": "stream",
     "text": [
      "Train on 60000 samples\n",
      "Epoch 1/5\n",
      "60000/60000 [==============================] - 2s 29us/sample - loss: 0.4680 - accuracy: 0.8788\n",
      "Epoch 2/5\n",
      "60000/60000 [==============================] - 1s 25us/sample - loss: 0.3041 - accuracy: 0.9151\n",
      "Epoch 3/5\n",
      "60000/60000 [==============================] - 1s 24us/sample - loss: 0.2831 - accuracy: 0.9208\n",
      "Epoch 4/5\n",
      "60000/60000 [==============================] - 1s 24us/sample - loss: 0.2731 - accuracy: 0.9242\n",
      "Epoch 5/5\n",
      "60000/60000 [==============================] - 1s 24us/sample - loss: 0.2665 - accuracy: 0.9255\n",
      "10000/10000 [==============================] - 0s 20us/sample - loss: 0.2703 - accuracy: 0.9240\n"
     ]
    },
    {
     "data": {
      "text/plain": [
       "[0.27028163131177424, 0.924]"
      ]
     },
     "execution_count": 5,
     "metadata": {},
     "output_type": "execute_result"
    }
   ],
   "source": [
    "model = tf.keras.models.Sequential([\n",
    "  tf.keras.layers.Flatten(input_shape=(28, 28)),\n",
    "  tf.keras.layers.Dense(10, activation='softmax')\n",
    "])\n",
    "\n",
    "model.compile(optimizer='adam',\n",
    "              loss='sparse_categorical_crossentropy',\n",
    "              metrics=['accuracy'])\n",
    "\n",
    "model.fit(x_train, y_train, epochs=5)\n",
    "model.evaluate(x_test, y_test)"
   ]
  },
  {
   "cell_type": "markdown",
   "metadata": {
    "colab_type": "text",
    "id": "KyLE9HJbwRDp"
   },
   "source": [
    "### 1a: Plot loss and accuracy\n",
    "\n",
    "**TODO**\n",
    "\n",
    "Modify the code below to produce plots showing loss and accuracy as a function of epochs on training and validation data (it's fine to use x_test and y_test as validation data for this assignment). To do so, you will need to add validation data to the call for ```model.fit```, and capture the results in a history object. Code for plotting is provided for you, you can pass your history object to this.\n",
    "\n",
    "![Plot 1](https://storage.googleapis.com/applied-dl/im/a1-1.png)\n",
    "![Plot 2](https://storage.googleapis.com/applied-dl/im/a1-2.png)\n"
   ]
  },
  {
   "cell_type": "code",
   "execution_count": 6,
   "metadata": {
    "colab": {},
    "colab_type": "code",
    "id": "xGFjRexynN11"
   },
   "outputs": [
    {
     "name": "stdout",
     "output_type": "stream",
     "text": [
      "Train on 60000 samples, validate on 10000 samples\n",
      "Epoch 1/10\n",
      "60000/60000 [==============================] - 2s 31us/sample - loss: 0.4694 - accuracy: 0.8776 - val_loss: 0.3085 - val_accuracy: 0.9148\n",
      "Epoch 2/10\n",
      "60000/60000 [==============================] - 2s 27us/sample - loss: 0.3043 - accuracy: 0.9155 - val_loss: 0.2807 - val_accuracy: 0.9220\n",
      "Epoch 3/10\n",
      "60000/60000 [==============================] - 2s 27us/sample - loss: 0.2832 - accuracy: 0.9202 - val_loss: 0.2717 - val_accuracy: 0.9239\n",
      "Epoch 4/10\n",
      "60000/60000 [==============================] - 2s 27us/sample - loss: 0.2734 - accuracy: 0.9234 - val_loss: 0.2712 - val_accuracy: 0.9232\n",
      "Epoch 5/10\n",
      "60000/60000 [==============================] - 2s 28us/sample - loss: 0.2667 - accuracy: 0.9256 - val_loss: 0.2650 - val_accuracy: 0.9265\n",
      "Epoch 6/10\n",
      "60000/60000 [==============================] - 2s 28us/sample - loss: 0.2620 - accuracy: 0.9272 - val_loss: 0.2761 - val_accuracy: 0.9232\n",
      "Epoch 7/10\n",
      "60000/60000 [==============================] - 2s 28us/sample - loss: 0.2587 - accuracy: 0.9285 - val_loss: 0.2632 - val_accuracy: 0.9257\n",
      "Epoch 8/10\n",
      "60000/60000 [==============================] - 2s 29us/sample - loss: 0.2553 - accuracy: 0.9293 - val_loss: 0.2662 - val_accuracy: 0.9262\n",
      "Epoch 9/10\n",
      "60000/60000 [==============================] - 2s 27us/sample - loss: 0.2536 - accuracy: 0.9290 - val_loss: 0.2639 - val_accuracy: 0.9264\n",
      "Epoch 10/10\n",
      "60000/60000 [==============================] - 2s 27us/sample - loss: 0.2507 - accuracy: 0.9304 - val_loss: 0.2659 - val_accuracy: 0.9280\n"
     ]
    },
    {
     "data": {
      "image/png": "[encoded data removed]",
      "text/plain": [
       "<Figure size 432x288 with 1 Axes>"
      ]
     },
     "metadata": {
      "needs_background": "light"
     },
     "output_type": "display_data"
    },
    {
     "data": {
      "image/png": "[encoded data removed]",
      "text/plain": [
       "<Figure size 432x288 with 1 Axes>"
      ]
     },
     "metadata": {
      "needs_background": "light"
     },
     "output_type": "display_data"
    }
   ],
   "source": [
    "model = tf.keras.models.Sequential([\n",
    "  tf.keras.layers.Flatten(input_shape=(28, 28)),\n",
    "  tf.keras.layers.Dense(10, activation='softmax')\n",
    "])\n",
    "\n",
    "model.compile(optimizer='adam',\n",
    "              loss='sparse_categorical_crossentropy',\n",
    "              metrics=['accuracy'])\n",
    "\n",
    "# 1. create a history object to store the results of model.fit\n",
    "# ```history = model.fit(...)```\n",
    "# 2. add another parameter to model.fit for validation data\n",
    "# https://keras.io/models/sequential/\n",
    "#model.fit(x_train, y_train, epochs=10)\n",
    "\n",
    "history = model.fit(x_train,y_train,validation_data=(x_test,y_test),\n",
    "                                epochs=10)\n",
    "\n",
    "# A plotting function you can reuse\n",
    "def plot(history):\n",
    "    \n",
    "  # The history object contains results on the training and test\n",
    "  # sets for each epoch\n",
    "    \n",
    "    acc = history.history['accuracy']\n",
    "    val_acc = history.history['val_accuracy']\n",
    "    loss = history.history['loss']\n",
    "    val_loss = history.history['val_loss']\n",
    "\n",
    "  # Get the number of epochs\n",
    "    epochs = range(len(acc))\n",
    "\n",
    "    plt.title('Training and validation accuracy')\n",
    "    plt.plot(epochs, acc, color='blue', label='Train')\n",
    "    plt.plot(epochs, val_acc, color='orange', label='Val')\n",
    "    plt.xlabel('Epoch')\n",
    "    plt.ylabel('Accuracy')\n",
    "    plt.legend()\n",
    "\n",
    "    _ = plt.figure()\n",
    "    plt.title('Training and validation loss')\n",
    "    plt.plot(epochs, loss, color='blue', label='Train')\n",
    "    plt.plot(epochs, val_loss, color='orange', label='Val')\n",
    "    plt.xlabel('Epoch')\n",
    "    plt.ylabel('Loss')\n",
    "    plt.legend()\n",
    "    \n",
    "plot(history)"
   ]
  },
  {
   "cell_type": "markdown",
   "metadata": {
    "colab_type": "text",
    "id": "4EhrKNT8wfgD"
   },
   "source": [
    "### 1b: Implement a neural network \n",
    "\n",
    "**TODO**\n",
    "\n",
    "Modify the code below to create a neural network (with a single hidden layer). Add a Dense layer with 128 units and ReLU activation. Train and evaluate your model. How does the accuracy compare with the linear model above? It is not necessary to produce plots for this section."
   ]
  },
  {
   "cell_type": "code",
   "execution_count": 7,
   "metadata": {
    "colab": {},
    "colab_type": "code",
    "id": "FYUgpSwPq-HF"
   },
   "outputs": [
    {
     "name": "stdout",
     "output_type": "stream",
     "text": [
      "Train on 60000 samples\n",
      "Epoch 1/5\n",
      "60000/60000 [==============================] - 2s 34us/sample - loss: 0.2650 - accuracy: 0.9249\n",
      "Epoch 2/5\n",
      "60000/60000 [==============================] - 2s 31us/sample - loss: 0.1172 - accuracy: 0.9653\n",
      "Epoch 3/5\n",
      "60000/60000 [==============================] - 2s 33us/sample - loss: 0.0805 - accuracy: 0.9763\n",
      "Epoch 4/5\n",
      "60000/60000 [==============================] - 2s 36us/sample - loss: 0.0596 - accuracy: 0.9821\n",
      "Epoch 5/5\n",
      "60000/60000 [==============================] - 2s 39us/sample - loss: 0.0465 - accuracy: 0.9856\n"
     ]
    },
    {
     "data": {
      "text/plain": [
       "<tensorflow.python.keras.callbacks.History at 0x147310350>"
      ]
     },
     "execution_count": 7,
     "metadata": {},
     "output_type": "execute_result"
    }
   ],
   "source": [
    "model = tf.keras.models.Sequential([\n",
    "  tf.keras.layers.Flatten(input_shape=(28, 28)),\n",
    "  # Modify me\n",
    "  tf.keras.layers.Dense(128, activation='relu'),\n",
    "  tf.keras.layers.Dense(10, activation='softmax')\n",
    "])\n",
    "\n",
    "model.compile(optimizer='adam',\n",
    "              loss='sparse_categorical_crossentropy',\n",
    "              metrics=['accuracy'])\n",
    "\n",
    "model.fit(x_train, y_train, epochs=5)"
   ]
  },
  {
   "cell_type": "markdown",
   "metadata": {},
   "source": [
    "Answer: The accuracy of the neural network (with a single hidden layer) is higher than the linear model generally."
   ]
  },
  {
   "cell_type": "markdown",
   "metadata": {
    "colab_type": "text",
    "id": "V18pDvPzwh6l"
   },
   "source": [
    "### 1c: Implement a deep neural network \n",
    "\n",
    "**TODO**\n",
    "\n",
    "Modify the code below to create and train a deep neural network with at least two hidden layers."
   ]
  },
  {
   "cell_type": "code",
   "execution_count": 8,
   "metadata": {
    "colab": {},
    "colab_type": "code",
    "id": "K0odgGhmrNNh"
   },
   "outputs": [
    {
     "name": "stdout",
     "output_type": "stream",
     "text": [
      "Train on 60000 samples\n",
      "Epoch 1/5\n",
      "60000/60000 [==============================] - 3s 47us/sample - loss: 0.2163 - accuracy: 0.9357\n",
      "Epoch 2/5\n",
      "60000/60000 [==============================] - 3s 44us/sample - loss: 0.0898 - accuracy: 0.9721\n",
      "Epoch 3/5\n",
      "60000/60000 [==============================] - 3s 43us/sample - loss: 0.0642 - accuracy: 0.9800\n",
      "Epoch 4/5\n",
      "60000/60000 [==============================] - 3s 43us/sample - loss: 0.0511 - accuracy: 0.9834\n",
      "Epoch 5/5\n",
      "60000/60000 [==============================] - 3s 45us/sample - loss: 0.0417 - accuracy: 0.9870\n"
     ]
    },
    {
     "data": {
      "text/plain": [
       "<tensorflow.python.keras.callbacks.History at 0x14772d390>"
      ]
     },
     "execution_count": 8,
     "metadata": {},
     "output_type": "execute_result"
    }
   ],
   "source": [
    "model = tf.keras.models.Sequential([\n",
    "  tf.keras.layers.Flatten(input_shape=(28, 28)),\n",
    "  # Modify me\n",
    "  tf.keras.layers.Dense(256, activation='relu'),\n",
    "  tf.keras.layers.Dense(128, activation='relu'),\n",
    "  tf.keras.layers.Dense(64, activation='relu'),\n",
    "  tf.keras.layers.Dense(10, activation='softmax')\n",
    "])\n",
    "\n",
    "model.compile(optimizer='adam',\n",
    "              loss='sparse_categorical_crossentropy',\n",
    "              metrics=['accuracy'])\n",
    "\n",
    "model.fit(x_train, y_train, epochs=5)"
   ]
  },
  {
   "cell_type": "markdown",
   "metadata": {
    "colab_type": "text",
    "id": "NkmnVGG-wnyw"
   },
   "source": [
    "### 1d: Display predictions and their confidence \n",
    "\n",
    "**TODO**\n",
    "\n",
    "1. Choose one of your models above. Use it to make predictions on the entire test set using ```model.predict```\n",
    "\n",
    "2. Next, identify one image from the testing set the model classifies correctly, and another that it classifies incorrectly. Add code to display these images below, the correct labels, the predicted labels, and the confidence scores."
   ]
  },
  {
   "cell_type": "code",
   "execution_count": 9,
   "metadata": {
    "colab": {},
    "colab_type": "code",
    "id": "BPd5NvaV1XEx"
   },
   "outputs": [
    {
     "name": "stdout",
     "output_type": "stream",
     "text": [
      "Train on 60000 samples\n",
      "Epoch 1/5\n",
      "60000/60000 [==============================] - 2s 26us/sample - loss: 0.4710 - accuracy: 0.8764\n",
      "Epoch 2/5\n",
      "60000/60000 [==============================] - 1s 24us/sample - loss: 0.3046 - accuracy: 0.9150\n",
      "Epoch 3/5\n",
      "60000/60000 [==============================] - 1s 24us/sample - loss: 0.2836 - accuracy: 0.9204\n",
      "Epoch 4/5\n",
      "60000/60000 [==============================] - 1s 24us/sample - loss: 0.2731 - accuracy: 0.9233\n",
      "Epoch 5/5\n",
      "60000/60000 [==============================] - 1s 24us/sample - loss: 0.2670 - accuracy: 0.9255\n"
     ]
    },
    {
     "data": {
      "image/png": "[encoded data removed]",
      "text/plain": [
       "<Figure size 432x216 with 1 Axes>"
      ]
     },
     "metadata": {},
     "output_type": "display_data"
    },
    {
     "data": {
      "image/png": "[encoded data removed]",
      "text/plain": [
       "<Figure size 432x216 with 1 Axes>"
      ]
     },
     "metadata": {},
     "output_type": "display_data"
    }
   ],
   "source": [
    "# TODO: add your code here.\n",
    "import numpy as np\n",
    "import tensorflow as tf\n",
    "from tensorflow.keras.layers import Dense, Flatten \n",
    "from tensorflow.keras import Model\n",
    "import matplotlib.pyplot as plt\n",
    "\n",
    "mnist = tf.keras.datasets.mnist\n",
    "\n",
    "(x_train, y_train), (x_test, y_test) = mnist.load_data()\n",
    "x_train, x_test = x_train / 255.0, x_test / 255.0\n",
    "\n",
    "model = tf.keras.models.Sequential([\n",
    "  tf.keras.layers.Flatten(input_shape=(28, 28)),\n",
    "  tf.keras.layers.Dense(10, activation='softmax')\n",
    "])\n",
    "\n",
    "model.compile(optimizer='adam',\n",
    "              loss='sparse_categorical_crossentropy',\n",
    "              metrics=['accuracy'])\n",
    "\n",
    "model.fit(x_train, y_train, epochs=5)\n",
    "\n",
    "class_names = ['0', '1', '2', '3', '4', '5', '6', '7', '8', '9']\n",
    "\n",
    "predictions = model.predict(x_test)\n",
    "\n",
    "def plot_image(i, predictions_array, true_label, img):\n",
    "    predictions_array, true_label, img = predictions_array, true_label[i], img[i]\n",
    "    plt.grid(False)\n",
    "    plt.xticks([])\n",
    "    plt.yticks([])\n",
    "    \n",
    "    plt.imshow(img, cmap=plt.cm.binary)\n",
    "    predicted_label = np.argmax(predictions_array)\n",
    "    if predicted_label == true_label:\n",
    "        color = 'blue'\n",
    "    else:\n",
    "        color = 'red'\n",
    "        \n",
    "    plt.xlabel(\"{} {} {} {:2.0f}% ({} {})\".format(\"predicted label :\", class_names[predicted_label],\n",
    "                                \"confidence score :\", 100*np.max(predictions_array),\n",
    "                                \"correct label :\", class_names[true_label]),\n",
    "                               color=color)    \n",
    "i = 0\n",
    "plt.figure(figsize=(6,3))\n",
    "plot_image(i, predictions[i], y_test, x_test)\n",
    "plt.show()\n",
    "\n",
    "i = 8\n",
    "plt.figure(figsize=(6,3))\n",
    "plot_image(i, predictions[i], y_test, x_test)\n",
    "plt.show()"
   ]
  },
  {
   "cell_type": "markdown",
   "metadata": {
    "colab_type": "text",
    "id": "ca0nFGJdv3H2"
   },
   "source": [
    "## Part 2: Subclassed models\n",
    "\n",
    "In this part of the assignment, you'll work with the Keras Subclassing API. Instead of using a built-in method (```model.fit```) you will train models using a GradientTape.\n",
    "\n",
    "Here are a few code examples that will help you with this part of the assignment:\n",
    "\n",
    "* [Get started for experts](https://www.tensorflow.org/tutorials/quickstart/advanced)\n",
    "* [Tensors and operations](https://www.tensorflow.org/tutorials/eager/basics)\n",
    "* [Keras overview](https://www.tensorflow.org/guide/keras/overview)"
   ]
  },
  {
   "cell_type": "markdown",
   "metadata": {
    "colab_type": "text",
    "id": "xB6r75B5teHv"
   },
   "source": [
    "### Download and prepare a dataset\n",
    "This is similar to the above, except now we'll use ```tf.data``` to batch and shuffle the data, instead of the utilities baked into ```model.fit```. It's not necessary for this assignment, but if you wish, you can learn how to use tf.data [here](https://www.tensorflow.org/beta/tutorials/load_data/images)."
   ]
  },
  {
   "cell_type": "code",
   "execution_count": 10,
   "metadata": {
    "colab": {},
    "colab_type": "code",
    "id": "kYbkeJJqtm0h"
   },
   "outputs": [],
   "source": [
    "# Download a dataset\n",
    "(x_train, y_train), (x_test, y_test) = tf.keras.datasets.mnist.load_data()\n",
    "\n",
    "# Batch and shuffle the data\n",
    "train_ds = tf.data.Dataset.from_tensor_slices(\n",
    "    (x_train.astype('float32') / 255, y_train)).shuffle(1024).batch(32)\n",
    "\n",
    "test_ds = tf.data.Dataset.from_tensor_slices(\n",
    "    (x_test.astype('float32') / 255, y_test)).batch(32)"
   ]
  },
  {
   "cell_type": "code",
   "execution_count": 11,
   "metadata": {
    "colab": {},
    "colab_type": "code",
    "id": "_JlSs-3qvCgi"
   },
   "outputs": [
    {
     "name": "stdout",
     "output_type": "stream",
     "text": [
      "tf.Tensor(8, shape=(), dtype=uint8)\n"
     ]
    },
    {
     "data": {
      "image/png": "[encoded data removed]",
      "text/plain": [
       "<Figure size 432x288 with 1 Axes>"
      ]
     },
     "metadata": {
      "needs_background": "light"
     },
     "output_type": "display_data"
    }
   ],
   "source": [
    "# A quick example of iterating over a dataset object\n",
    "for image, label in train_ds.take(1):\n",
    "    plt.imshow(image[0], plt.get_cmap('gray'))\n",
    "    print(label[0])"
   ]
  },
  {
   "cell_type": "markdown",
   "metadata": {
    "colab_type": "text",
    "id": "0Nmw1h6stTg5"
   },
   "source": [
    "### Define and train a linear model\n",
    "\n",
    "You may see some warnings running the below code (that's okay, just a matter of TF 2.0 being under active development)."
   ]
  },
  {
   "cell_type": "code",
   "execution_count": 12,
   "metadata": {
    "colab": {},
    "colab_type": "code",
    "id": "BWGJoufMtbHA"
   },
   "outputs": [],
   "source": [
    "class MyLinearModel(Model):\n",
    "    def __init__(self):\n",
    "        super(MyLinearModel, self).__init__()\n",
    "        self.flatten = Flatten()\n",
    "        self.d1 = Dense(10, activation='softmax', name=\"dense1\")\n",
    "    def call(self, x):\n",
    "        x = self.flatten(x)\n",
    "        return self.d1(x)"
   ]
  },
  {
   "cell_type": "code",
   "execution_count": 13,
   "metadata": {},
   "outputs": [
    {
     "name": "stdout",
     "output_type": "stream",
     "text": [
      "Epoch 0, Test loss: 0.48094719648361206\n",
      "Epoch 1, Test loss: 0.40113958716392517\n",
      "Epoch 2, Test loss: 0.3684690296649933\n",
      "Epoch 3, Test loss: 0.34947308897972107\n",
      "Epoch 4, Test loss: 0.3368271291255951\n"
     ]
    }
   ],
   "source": [
    "model = MyLinearModel()\n",
    "\n",
    "loss_fn = tf.keras.losses.SparseCategoricalCrossentropy()\n",
    "optimizer = tf.keras.optimizers.SGD()\n",
    "\n",
    "# For each epoch\n",
    "for epoch in range(5):\n",
    "\n",
    "  # For each batch of images and labels\n",
    "  for images, labels in train_ds:\n",
    "\n",
    "    # Open a GradientTape.\n",
    "    with tf.GradientTape() as tape:\n",
    "\n",
    "      # Forward pass\n",
    "      predictions = model(images)\n",
    "\n",
    "      # Calculate loss\n",
    "      loss = loss_fn(labels, predictions)\n",
    "\n",
    "    # Backprop to calculate gradients\n",
    "    gradients = tape.gradient(loss, model.trainable_variables)\n",
    "\n",
    "    # Gradient descent step\n",
    "    optimizer.apply_gradients(zip(gradients, model.trainable_variables))\n",
    "\n",
    "  # Calculate loss on the test data\n",
    "  test_loss = []\n",
    "  for images, labels in test_ds: \n",
    "    predictions = model(images)\n",
    "    loss_on_batch = loss_fn(labels, predictions)\n",
    "    test_loss.append(loss_on_batch)\n",
    "    \n",
    "  print(\"Epoch {}, Test loss: {}\".format(epoch, tf.reduce_mean(test_loss)))"
   ]
  },
  {
   "cell_type": "markdown",
   "metadata": {
    "colab_type": "text",
    "id": "mEO51Mvi1jOT"
   },
   "source": [
    "Note: you may have noticed that the above code runs slowly (it's executing eagerly). Later in this notebook, you will compile your code (to run it in graph mode) using ```@tf.function```. The general workflow is to write your code without using tf.function (as shown above, which makes for easier debugging). Once you've finished debugging your model, you can add ```@tf.function``` for performance if necessary."
   ]
  },
  {
   "cell_type": "markdown",
   "metadata": {
    "colab_type": "text",
    "id": "dj7Y8JWgwv9Z"
   },
   "source": [
    "### 2a: Challenge: Visualize the learned weights\n",
    "\n",
    "We can interpret a linear model by looking at the weights of the fully connected layer. Modify the below code to create a plot similar to the one on slide #50 of lecture 1:\n",
    "\n",
    "![Plot of weights](https://storage.googleapis.com/applied-dl/im/mnist-weights.png)\n",
    "\n",
    "**TODO**\n",
    "\n",
    "Modify the below code to retrieve the learned weights. You can use either the public API of a model ```model.get_layer(name)``` then retrieve the weights from that, or (because our model is defined using the Subclassing API), you can access the dense layer directly ```model.d1```."
   ]
  },
  {
   "cell_type": "code",
   "execution_count": 14,
   "metadata": {
    "colab": {},
    "colab_type": "code",
    "id": "JiQZV03RuWHM"
   },
   "outputs": [
    {
     "name": "stdout",
     "output_type": "stream",
     "text": [
      "(784, 10)\n"
     ]
    }
   ],
   "source": [
    "# There are two ways to retrieve the weights. You can use the public API\n",
    "# (model.get_layer(name).get_weights()), or, you can access the dense layer \n",
    "# directly (model.dl) then find the accessor method, or again, access the\n",
    "# variable directly.\n",
    "# Python tip: try ```dir(model.d1)```\n",
    "\n",
    "# Modify me\n",
    "weights, bias = model.get_layer('dense1').get_weights() # get the weights\n",
    "\n",
    "print(weights.shape)"
   ]
  },
  {
   "cell_type": "code",
   "execution_count": 15,
   "metadata": {
    "colab": {},
    "colab_type": "code",
    "id": "oz3VV2EiuY7X"
   },
   "outputs": [
    {
     "data": {
      "image/png": "[encoded data removed]",
      "text/plain": [
       "<Figure size 1440x1440 with 10 Axes>"
      ]
     },
     "metadata": {
      "needs_background": "light"
     },
     "output_type": "display_data"
    }
   ],
   "source": [
    "fig, axs = plt.subplots(1,10, figsize=(20,20))\n",
    "for i in range(10):\n",
    "    subplot = axs[i]\n",
    "    subplot.set_title(i)\n",
    "    subplot.axis('off')\n",
    "  # Modify me\n",
    "    i_weights = model.d1.get_weights()[0][:,i]  # Select the weights for the i'th output\n",
    "    img = np.reshape(i_weights,(28,28))# Reshape the weights into a 28x28 array\n",
    "    subplot.imshow(img, plt.get_cmap('seismic'))\n",
    "plt.show()"
   ]
  },
  {
   "cell_type": "markdown",
   "metadata": {
    "colab_type": "text",
    "id": "HNBCIqzdw2GS"
   },
   "source": [
    "### 2b: Implement a deep neural network\n",
    "\n",
    "**TODO**\n",
    "\n",
    "Modify this code to create a deep neural network. Train your model using the code below, and compare the accuracy to the linear model above. \n",
    "\n",
    "Note: you do not need to modify any sections other than the model definition. \n",
    "\n",
    "The code below uses compiled versions of the training and evaluation loops (remove the ```@tf.function``` annotations if you need to debug)."
   ]
  },
  {
   "cell_type": "code",
   "execution_count": 16,
   "metadata": {
    "colab": {},
    "colab_type": "code",
    "id": "rxoIfq91xDRZ"
   },
   "outputs": [],
   "source": [
    "class MyDNN(Model):\n",
    "  def __init__(self):\n",
    "    super(MyDNN, self).__init__()\n",
    "    self.flatten = Flatten()\n",
    "    # Modify me\n",
    "    self.d1 = Dense(32, activation='relu')\n",
    "    self.d2 = Dense(64, activation='relu')\n",
    "    self.d3 = Dense(128, activation='relu')\n",
    "    self.d4 = Dense(10, activation='softmax')\n",
    "\n",
    "  def call(self, x):\n",
    "    x = self.flatten(x)\n",
    "    x = self.d1(x)\n",
    "    x = self.d2(x)\n",
    "    x = self.d3(x)\n",
    "    return self.d4(x)\n",
    "\n",
    "model = MyDNN()"
   ]
  },
  {
   "cell_type": "code",
   "execution_count": 17,
   "metadata": {
    "colab": {},
    "colab_type": "code",
    "id": "hVDDq2orxPBR"
   },
   "outputs": [],
   "source": [
    "loss_object = tf.keras.losses.SparseCategoricalCrossentropy()\n",
    "optimizer = tf.keras.optimizers.Adam()"
   ]
  },
  {
   "cell_type": "markdown",
   "metadata": {
    "colab_type": "text",
    "id": "WNC0K6JPxy-g"
   },
   "source": [
    "These are helper functions we'll use to record loss and accuracy while your model is trained."
   ]
  },
  {
   "cell_type": "code",
   "execution_count": 18,
   "metadata": {
    "colab": {},
    "colab_type": "code",
    "id": "duYKrACkxRHw"
   },
   "outputs": [],
   "source": [
    "train_loss = tf.keras.metrics.Mean(name='train_loss')\n",
    "train_accuracy = tf.keras.metrics.SparseCategoricalAccuracy(name='train_accuracy')\n",
    "\n",
    "test_loss = tf.keras.metrics.Mean(name='test_loss')\n",
    "test_accuracy = tf.keras.metrics.SparseCategoricalAccuracy(name='test_accuracy')"
   ]
  },
  {
   "cell_type": "markdown",
   "metadata": {
    "colab_type": "text",
    "id": "C_oUQki5x0lD"
   },
   "source": [
    "This method trains the model on a batch of data."
   ]
  },
  {
   "cell_type": "code",
   "execution_count": 19,
   "metadata": {
    "colab": {},
    "colab_type": "code",
    "id": "yTQAnrOAxUAu"
   },
   "outputs": [],
   "source": [
    "@tf.function\n",
    "def train_step(images, labels):\n",
    "  with tf.GradientTape() as tape:\n",
    "    predictions = model(images)\n",
    "    loss = loss_object(labels, predictions)\n",
    "  gradients = tape.gradient(loss, model.trainable_variables)\n",
    "  optimizer.apply_gradients(zip(gradients, model.trainable_variables))\n",
    "\n",
    "  train_loss(loss)\n",
    "  train_accuracy(labels, predictions)"
   ]
  },
  {
   "cell_type": "markdown",
   "metadata": {
    "colab_type": "text",
    "id": "-lUJFkfux44o"
   },
   "source": [
    "This method evaluates the model on a batch of data."
   ]
  },
  {
   "cell_type": "code",
   "execution_count": 20,
   "metadata": {
    "colab": {},
    "colab_type": "code",
    "id": "BTMp9PwZxV5h"
   },
   "outputs": [],
   "source": [
    "@tf.function\n",
    "def test_step(images, labels):\n",
    "  predictions = model(images)\n",
    "  t_loss = loss_object(labels, predictions)\n",
    "\n",
    "  test_loss(t_loss)\n",
    "  test_accuracy(labels, predictions)"
   ]
  },
  {
   "cell_type": "markdown",
   "metadata": {
    "colab_type": "text",
    "id": "AR0_bNd-x6OE"
   },
   "source": [
    "Training and evaluation loop."
   ]
  },
  {
   "cell_type": "code",
   "execution_count": 21,
   "metadata": {
    "colab": {},
    "colab_type": "code",
    "id": "enHqlaCfxXq3"
   },
   "outputs": [
    {
     "name": "stdout",
     "output_type": "stream",
     "text": [
      "Epoch 1, Loss: 0.29041093587875366, Accuracy: 91.41999816894531, Test Loss: 0.17580775916576385, Test Accuracy: 94.66999816894531\n",
      "Epoch 2, Loss: 0.1383906751871109, Accuracy: 95.79833221435547, Test Loss: 0.14314156770706177, Test Accuracy: 95.74000549316406\n",
      "Epoch 3, Loss: 0.10636795312166214, Accuracy: 96.72833251953125, Test Loss: 0.14282363653182983, Test Accuracy: 95.58000183105469\n",
      "Epoch 4, Loss: 0.08720093220472336, Accuracy: 97.25166320800781, Test Loss: 0.13359881937503815, Test Accuracy: 96.19000244140625\n",
      "Epoch 5, Loss: 0.07695670425891876, Accuracy: 97.56999969482422, Test Loss: 0.12858521938323975, Test Accuracy: 96.35000610351562\n"
     ]
    }
   ],
   "source": [
    "EPOCHS = 5\n",
    "\n",
    "for epoch in range(EPOCHS):\n",
    "  for images, labels in train_ds:\n",
    "    train_step(images, labels)\n",
    "\n",
    "  for test_images, test_labels in test_ds:\n",
    "    test_step(test_images, test_labels)\n",
    "\n",
    "  template = 'Epoch {}, Loss: {}, Accuracy: {}, Test Loss: {}, Test Accuracy: {}'\n",
    "  print(template.format(epoch+1,\n",
    "                        train_loss.result(),\n",
    "                        train_accuracy.result()*100,\n",
    "                        test_loss.result(),\n",
    "                        test_accuracy.result()*100))\n",
    "\n",
    "  # Reset the metrics for the next epoch\n",
    "  train_loss.reset_states()\n",
    "  train_accuracy.reset_states()\n",
    "  test_loss.reset_states()\n",
    "  test_accuracy.reset_states()"
   ]
  },
  {
   "cell_type": "markdown",
   "metadata": {
    "colab_type": "text",
    "id": "ZxjIFiyBPorB"
   },
   "source": [
    "### 2c: Provide your own implementation of softmax and use it to train a model\n",
    "\n",
    "In your linear model above, the starter code looked similar to: \n",
    "\n",
    "\n",
    "```\n",
    "class LinearModel(Model):\n",
    "  def __init__(self):\n",
    "    super(LinearModel, self).__init__()\n",
    "    self.flatten = Flatten()\n",
    "    self.d1 = Dense(10, activation='softmax')\n",
    "\n",
    "  def call(self, x):\n",
    "    x = self.flatten(x)\n",
    "    return self.d1(x)\n",
    "``` \n",
    "\n",
    "Now, create a function:\n",
    "\n",
    "\n",
    "```\n",
    "def my_softmax(logits):\n",
    "  # ...\n",
    "```\n",
    "\n",
    "and use it in your model as follows:\n",
    "\n",
    "\n",
    "```\n",
    "class LinearModel(Model):\n",
    "  def __init__(self):\n",
    "    super(LinearModel, self).__init__()\n",
    "    self.flatten = Flatten()\n",
    "    self.d1 = Dense(10)\n",
    "\n",
    "  def call(self, x):\n",
    "    x = self.flatten(x)\n",
    "    x = self.d1(x)\n",
    "    return my_softmax(x)\n",
    "``` \n",
    "\n",
    "Notice, we've removed the built-in activation method on the Dense layer, and added our own to the call method.\n",
    "\n",
    "Tip: You can implement softmax first using NumPy, if you like, the gradually convert your code to use TensorFlow ops (which begin with tf.\\* instead of np.\\*).\n",
    "\n",
    "Notes: \n",
    "\n",
    "- Your softmax implementation should be numerically stable. \n",
    "- You will need to use tf.* ops in order to use your code to train a model (TF cannot backprop through NumPy operations)."
   ]
  },
  {
   "cell_type": "code",
   "execution_count": 23,
   "metadata": {
    "colab": {},
    "colab_type": "code",
    "id": "SiLj-uFrRAn-"
   },
   "outputs": [
    {
     "name": "stdout",
     "output_type": "stream",
     "text": [
      "Epoch 1, Loss: 0.7757875919342041, Accuracy: 81.68499755859375, Test Loss: 0.48206833004951477, Test Accuracy: 87.91999816894531\n",
      "Epoch 2, Loss: 0.4572155475616455, Accuracy: 87.94000244140625, Test Loss: 0.4018859565258026, Test Accuracy: 89.3499984741211\n",
      "Epoch 3, Loss: 0.40415582060813904, Accuracy: 89.08499908447266, Test Loss: 0.36878812313079834, Test Accuracy: 90.0\n",
      "Epoch 4, Loss: 0.3775089383125305, Accuracy: 89.61000061035156, Test Loss: 0.34977152943611145, Test Accuracy: 90.52999877929688\n",
      "Epoch 5, Loss: 0.36061689257621765, Accuracy: 89.99666595458984, Test Loss: 0.33704647421836853, Test Accuracy: 90.80999755859375\n"
     ]
    }
   ],
   "source": [
    "# TODO: your code here\n",
    "import numpy as np\n",
    "import tensorflow as tf\n",
    "\n",
    "def my_softmax(x):\n",
    "  # Modify me\n",
    "    shift_x = x - tf.reduce_max(x)\n",
    "    exp_x = tf.exp(shift_x)\n",
    "    \n",
    "    return exp_x / tf.reduce_sum(exp_x)\n",
    "\n",
    "class MyModel(Model):\n",
    "  def __init__(self):\n",
    "    super(MyModel, self).__init__()\n",
    "    self.flatten = Flatten()\n",
    "    self.d1 = Dense(10)\n",
    "\n",
    "  def call(self, x):\n",
    "    x = self.flatten(x)\n",
    "    x = self.d1(x)\n",
    "    return my_softmax(x)\n",
    "  \n",
    "model = MyModel()\n",
    "\n",
    "loss_fn = tf.keras.losses.SparseCategoricalCrossentropy()\n",
    "optimizer = tf.keras.optimizers.SGD()\n",
    "    \n",
    "train_loss = tf.keras.metrics.Mean(name='train_loss')\n",
    "train_accuracy = tf.keras.metrics.SparseCategoricalAccuracy(name='train_accuracy')\n",
    "\n",
    "test_loss = tf.keras.metrics.Mean(name='test_loss')\n",
    "test_accuracy = tf.keras.metrics.SparseCategoricalAccuracy(name='test_accuracy')\n",
    "\n",
    "@tf.function\n",
    "def train_step(images, labels):\n",
    "  with tf.GradientTape() as tape:\n",
    "    predictions = model(images)\n",
    "    loss = loss_object(labels, predictions)\n",
    "  gradients = tape.gradient(loss, model.trainable_variables)\n",
    "  optimizer.apply_gradients(zip(gradients, model.trainable_variables))\n",
    "\n",
    "  train_loss(loss)\n",
    "  train_accuracy(labels, predictions)\n",
    "\n",
    "@tf.function\n",
    "def test_step(images, labels):\n",
    "  predictions = model(images)\n",
    "  t_loss = loss_object(labels, predictions)\n",
    "\n",
    "  test_loss(t_loss)\n",
    "  test_accuracy(labels, predictions)\n",
    "\n",
    "EPOCHS = 5\n",
    "\n",
    "for epoch in range(EPOCHS):\n",
    "  for images, labels in train_ds:\n",
    "    train_step(images, labels)\n",
    "\n",
    "  for test_images, test_labels in test_ds:\n",
    "    test_step(test_images, test_labels)\n",
    "\n",
    "  template = 'Epoch {}, Loss: {}, Accuracy: {}, Test Loss: {}, Test Accuracy: {}'\n",
    "  print(template.format(epoch+1,\n",
    "                        train_loss.result(),\n",
    "                        train_accuracy.result()*100,\n",
    "                        test_loss.result(),\n",
    "                        test_accuracy.result()*100))\n",
    "\n",
    "  # Reset the metrics for the next epoch\n",
    "  train_loss.reset_states()\n",
    "  train_accuracy.reset_states()\n",
    "  test_loss.reset_states()\n",
    "  test_accuracy.reset_states()\n",
    "\n",
    "# TODO\n",
    "# Add code to train you model, your accuracy should be similar \n",
    "# to the linear model."
   ]
  },
  {
   "cell_type": "markdown",
   "metadata": {},
   "source": [
    "The test loss is similar to the linear model."
   ]
  }
 ],
 "metadata": {
  "accelerator": "GPU",
  "colab": {
   "collapsed_sections": [],
   "name": "a1.ipynb",
   "provenance": []
  },
  "kernelspec": {
   "display_name": "Python 3",
   "language": "python",
   "name": "python3"
  },
  "language_info": {
   "codemirror_mode": {
    "name": "ipython",
    "version": 3
   },
   "file_extension": ".py",
   "mimetype": "text/x-python",
   "name": "python",
   "nbconvert_exporter": "python",
   "pygments_lexer": "ipython3",
   "version": "3.7.4"
  }
 },
 "nbformat": 4,
 "nbformat_minor": 1
}
